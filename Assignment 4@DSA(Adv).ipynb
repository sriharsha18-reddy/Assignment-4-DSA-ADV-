{
 "cells": [
  {
   "attachments": {},
   "cell_type": "markdown",
   "metadata": {},
   "source": [
    "1 . Breadth First Traversal for a Graph"
   ]
  },
  {
   "cell_type": "code",
   "execution_count": 1,
   "metadata": {},
   "outputs": [
    {
     "name": "stdout",
     "output_type": "stream",
     "text": [
      "BFS Traversal:\n",
      "0 1 2 3 4 5 "
     ]
    }
   ],
   "source": [
    "\n",
    "from collections import deque\n",
    "\n",
    "class Graph:\n",
    "    def __init__(self, vertices):\n",
    "        self.vertices = vertices\n",
    "        self.adjacency_list = [[] for _ in range(vertices)]\n",
    "\n",
    "    def add_edge(self, source, destination):\n",
    "        self.adjacency_list[source].append(destination)\n",
    "\n",
    "    def bfs(self, start_vertex):\n",
    "        visited = [False] * self.vertices\n",
    "        queue = deque()\n",
    "\n",
    "        visited[start_vertex] = True\n",
    "        queue.append(start_vertex)\n",
    "\n",
    "        while queue:\n",
    "            current_vertex = queue.popleft()\n",
    "            print(current_vertex, end=\" \")\n",
    "\n",
    "            for adjacent_vertex in self.adjacency_list[current_vertex]:\n",
    "                if not visited[adjacent_vertex]:\n",
    "                    visited[adjacent_vertex] = True\n",
    "                    queue.append(adjacent_vertex)\n",
    "\n",
    "graph = Graph(6)\n",
    "\n",
    "graph.add_edge(0, 1)\n",
    "graph.add_edge(0, 2)\n",
    "graph.add_edge(1, 3)\n",
    "graph.add_edge(2, 4)\n",
    "graph.add_edge(2, 5)\n",
    "\n",
    "print(\"BFS Traversal:\")\n",
    "graph.bfs(0)"
   ]
  },
  {
   "attachments": {},
   "cell_type": "markdown",
   "metadata": {},
   "source": [
    "2 . Depth First Traversal for a Graph"
   ]
  },
  {
   "cell_type": "code",
   "execution_count": 2,
   "metadata": {},
   "outputs": [
    {
     "name": "stdout",
     "output_type": "stream",
     "text": [
      "DFS Traversal:\n",
      "0 1 3 2 4 5 "
     ]
    }
   ],
   "source": [
    "\n",
    "class Graph:\n",
    "    def __init__(self, vertices):\n",
    "        self.vertices = vertices\n",
    "        self.adjacency_list = [[] for _ in range(vertices)]\n",
    "\n",
    "    def add_edge(self, source, destination):\n",
    "        self.adjacency_list[source].append(destination)\n",
    "\n",
    "    def dfs_recursive(self, start_vertex, visited):\n",
    "        visited[start_vertex] = True\n",
    "        print(start_vertex, end=\" \")\n",
    "\n",
    "        for adjacent_vertex in self.adjacency_list[start_vertex]:\n",
    "            if not visited[adjacent_vertex]:\n",
    "                self.dfs_recursive(adjacent_vertex, visited)\n",
    "\n",
    "    def dfs(self, start_vertex):\n",
    "        visited = [False] * self.vertices\n",
    "        self.dfs_recursive(start_vertex, visited)\n",
    "\n",
    "\n",
    "graph = Graph(6)\n",
    "\n",
    "graph.add_edge(0, 1)\n",
    "graph.add_edge(0, 2)\n",
    "graph.add_edge(1, 3)\n",
    "graph.add_edge(2, 4)\n",
    "graph.add_edge(2, 5)\n",
    "\n",
    "print(\"DFS Traversal:\")\n",
    "graph.dfs(0)"
   ]
  },
  {
   "attachments": {},
   "cell_type": "markdown",
   "metadata": {},
   "source": [
    "3 . Count the number of nodes at given level in a tree using BFS"
   ]
  },
  {
   "cell_type": "code",
   "execution_count": 3,
   "metadata": {},
   "outputs": [
    {
     "name": "stdout",
     "output_type": "stream",
     "text": [
      "Number of nodes at level 2 : 1\n"
     ]
    }
   ],
   "source": [
    "\n",
    "from collections import deque\n",
    "\n",
    "class Node:\n",
    "    def __init__(self, value):\n",
    "        self.value = value\n",
    "        self.left = None\n",
    "        self.right = None\n",
    "\n",
    "\n",
    "class BinaryTree:\n",
    "    def __init__(self):\n",
    "        self.root = None\n",
    "\n",
    "    def insert(self, value):\n",
    "        if self.root is None:\n",
    "            self.root = Node(value)\n",
    "        else:\n",
    "            self._insert_recursive(self.root, value)\n",
    "\n",
    "    def _insert_recursive(self, node, value):\n",
    "        if value < node.value:\n",
    "            if node.left is None:\n",
    "                node.left = Node(value)\n",
    "            else:\n",
    "                self._insert_recursive(node.left, value)\n",
    "        else:\n",
    "            if node.right is None:\n",
    "                node.right = Node(value)\n",
    "            else:\n",
    "                self._insert_recursive(node.right, value)\n",
    "\n",
    "    def count_nodes_at_level(self, target_level):\n",
    "        if self.root is None:\n",
    "            return 0\n",
    "\n",
    "        level = 1\n",
    "        queue = deque()\n",
    "        queue.append((self.root, level))\n",
    "        count = 0\n",
    "\n",
    "        while queue:\n",
    "            node, node_level = queue.popleft()\n",
    "\n",
    "            if node_level == target_level:\n",
    "                count += 1\n",
    "\n",
    "            if node.left:\n",
    "                queue.append((node.left, node_level + 1))\n",
    "            if node.right:\n",
    "                queue.append((node.right, node_level + 1))\n",
    "\n",
    "        return count\n",
    "\n",
    "tree = BinaryTree()\n",
    "\n",
    "tree.insert(1)\n",
    "tree.insert(2)\n",
    "tree.insert(3)\n",
    "tree.insert(4)\n",
    "tree.insert(5)\n",
    "tree.insert(6)\n",
    "tree.insert(7)\n",
    "\n",
    "target_level = 2\n",
    "node_count = tree.count_nodes_at_level(target_level)\n",
    "print(\"Number of nodes at level\", target_level, \":\", node_count)"
   ]
  },
  {
   "attachments": {},
   "cell_type": "markdown",
   "metadata": {},
   "source": [
    "4 . Count number of trees in a forest"
   ]
  },
  {
   "cell_type": "code",
   "execution_count": 4,
   "metadata": {},
   "outputs": [
    {
     "name": "stdout",
     "output_type": "stream",
     "text": [
      "Number of trees in the forest: 3\n"
     ]
    }
   ],
   "source": [
    "\n",
    "class Graph:\n",
    "    def __init__(self, vertices):\n",
    "        self.vertices = vertices\n",
    "        self.adjacency_list = [[] for _ in range(vertices)]\n",
    "\n",
    "    def add_edge(self, source, destination):\n",
    "        self.adjacency_list[source].append(destination)\n",
    "        self.adjacency_list[destination].append(source)\n",
    "\n",
    "    def dfs(self, vertex, visited):\n",
    "        visited[vertex] = True\n",
    "\n",
    "        for adjacent_vertex in self.adjacency_list[vertex]:\n",
    "            if not visited[adjacent_vertex]:\n",
    "                self.dfs(adjacent_vertex, visited)\n",
    "\n",
    "    def count_trees(self):\n",
    "        visited = [False] * self.vertices\n",
    "        count = 0\n",
    "\n",
    "        for vertex in range(self.vertices):\n",
    "            if not visited[vertex]:\n",
    "                self.dfs(vertex, visited)\n",
    "                count += 1\n",
    "\n",
    "        return count\n",
    "\n",
    "graph = Graph(8)\n",
    "\n",
    "graph.add_edge(0, 1)\n",
    "graph.add_edge(1, 2)\n",
    "graph.add_edge(3, 4)\n",
    "graph.add_edge(4, 5)\n",
    "graph.add_edge(5, 6)\n",
    "graph.add_edge(7, 7)\n",
    "\n",
    "tree_count = graph.count_trees()\n",
    "print(\"Number of trees in the forest:\", tree_count)"
   ]
  },
  {
   "attachments": {},
   "cell_type": "markdown",
   "metadata": {},
   "source": [
    "5 . Detect Cycle in a Directed Graph"
   ]
  },
  {
   "cell_type": "code",
   "execution_count": 5,
   "metadata": {},
   "outputs": [
    {
     "name": "stdout",
     "output_type": "stream",
     "text": [
      "The graph contains a cycle.\n"
     ]
    }
   ],
   "source": [
    "\n",
    "class Graph:\n",
    "    def __init__(self, vertices):\n",
    "        self.vertices = vertices\n",
    "        self.adjacency_list = [[] for _ in range(vertices)]\n",
    "\n",
    "    def add_edge(self, source, destination):\n",
    "        self.adjacency_list[source].append(destination)\n",
    "\n",
    "    def is_cyclic_util(self, vertex, visited, recursion_stack):\n",
    "        visited[vertex] = True\n",
    "        recursion_stack[vertex] = True\n",
    "\n",
    "        for adjacent_vertex in self.adjacency_list[vertex]:\n",
    "            if not visited[adjacent_vertex]:\n",
    "                if self.is_cyclic_util(adjacent_vertex, visited, recursion_stack):\n",
    "                    return True\n",
    "            elif recursion_stack[adjacent_vertex]:\n",
    "                return True\n",
    "\n",
    "        recursion_stack[vertex] = False\n",
    "        return False\n",
    "\n",
    "    def is_cyclic(self):\n",
    "        visited = [False] * self.vertices\n",
    "        recursion_stack = [False] * self.vertices\n",
    "\n",
    "        for vertex in range(self.vertices):\n",
    "            if not visited[vertex]:\n",
    "                if self.is_cyclic_util(vertex, visited, recursion_stack):\n",
    "                    return True\n",
    "\n",
    "        return False\n",
    "\n",
    "graph = Graph(4)\n",
    "\n",
    "graph.add_edge(0, 1)\n",
    "graph.add_edge(1, 2)\n",
    "graph.add_edge(2, 3)\n",
    "graph.add_edge(3, 0)\n",
    "\n",
    "has_cycle = graph.is_cyclic()\n",
    "if has_cycle:\n",
    "    print(\"The graph contains a cycle.\")\n",
    "else:\n",
    "    print(\"The graph does not contain a cycle.\")"
   ]
  },
  {
   "attachments": {},
   "cell_type": "markdown",
   "metadata": {},
   "source": [
    "6 . ** Implement n-Queen’s Problem **"
   ]
  },
  {
   "cell_type": "code",
   "execution_count": 6,
   "metadata": {},
   "outputs": [
    {
     "name": "stdout",
     "output_type": "stream",
     "text": [
      "Solution:\n",
      "..Q.\n",
      "Q...\n",
      "...Q\n",
      ".Q..\n",
      "\n",
      "Solution:\n",
      ".Q..\n",
      "...Q\n",
      "Q...\n",
      "..Q.\n",
      "\n"
     ]
    }
   ],
   "source": [
    "\n",
    "class NQueens:\n",
    "    def __init__(self, n):\n",
    "        self.n = n\n",
    "        self.board = [[0] * n for _ in range(n)]\n",
    "        self.solutions = []\n",
    "\n",
    "    def solve_nqueens(self):\n",
    "        self._solve(0)\n",
    "        return self.solutions\n",
    "\n",
    "    def _solve(self, col):\n",
    "        if col == self.n:\n",
    "            solution = []\n",
    "            for i in range(self.n):\n",
    "                row = ''.join(['Q' if self.board[i][j] else '.' for j in range(self.n)])\n",
    "                solution.append(row)\n",
    "            self.solutions.append(solution)\n",
    "            return\n",
    "\n",
    "        for row in range(self.n):\n",
    "            if self._is_safe(row, col):\n",
    "                self.board[row][col] = 1\n",
    "                self._solve(col + 1)\n",
    "                self.board[row][col] = 0\n",
    "\n",
    "    def _is_safe(self, row, col):\n",
    "        for i in range(col):\n",
    "            if self.board[row][i] == 1:\n",
    "                return False\n",
    "\n",
    "        for i, j in zip(range(row, -1, -1), range(col, -1, -1)):\n",
    "            if self.board[i][j] == 1:\n",
    "                return False\n",
    "\n",
    "        for i, j in zip(range(row, self.n), range(col, -1, -1)):\n",
    "            if self.board[i][j] == 1:\n",
    "                return False\n",
    "\n",
    "        return True\n",
    "\n",
    "n_queens = NQueens(4)\n",
    "\n",
    "solutions = n_queens.solve_nqueens()\n",
    "\n",
    "for solution in solutions:\n",
    "    print(\"Solution:\")\n",
    "    for row in solution:\n",
    "        print(row)\n",
    "    print()"
   ]
  }
 ],
 "metadata": {
  "kernelspec": {
   "display_name": "Python 3",
   "language": "python",
   "name": "python3"
  },
  "language_info": {
   "codemirror_mode": {
    "name": "ipython",
    "version": 3
   },
   "file_extension": ".py",
   "mimetype": "text/x-python",
   "name": "python",
   "nbconvert_exporter": "python",
   "pygments_lexer": "ipython3",
   "version": "3.11.3"
  },
  "orig_nbformat": 4
 },
 "nbformat": 4,
 "nbformat_minor": 2
}
